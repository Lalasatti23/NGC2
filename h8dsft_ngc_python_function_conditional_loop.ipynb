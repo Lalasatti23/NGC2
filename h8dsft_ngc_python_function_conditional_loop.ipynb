{
 "cells": [
  {
   "cell_type": "markdown",
   "metadata": {},
   "source": [
    "# Task 1 - Number of Word\n",
    "\n",
    "Create a function that count the number of word in a sentence\n",
    "\n",
    "Instruction:\n",
    "1. Create function called 'number_of_word'.\n",
    "2. This function takes 1 input, 'sentence'.\n",
    "3. Inside this function, you can utilize '.split()' method to split the sentence into list of words(s).\n",
    "4. Also, 'len()' function to count the element inside a list.\n",
    "5. Return the number of word from the sentence.\n",
    "\n",
    "Example:\n",
    "\n",
    "- Input     : number_of_word(sentence = 'Hello World!')\n",
    "- Output    : 2\n",
    "\n",
    "- Input     : number_of_word(sentence = 'Once Upon a time \n",
    "                in a faraway land')\n",
    "- Output    : 8\n"
   ]
  },
  {
   "cell_type": "code",
   "execution_count": 4,
   "metadata": {},
   "outputs": [],
   "source": [
    "# Jawaban Task 1\n",
    "\n",
    "def number_of_word(sentence):\n",
    "    '''\n",
    "    fungsi akan menghitung jumlah kata dalam suatu kalimat.\n",
    "    '''\n",
    "    hasil = len(sentence.split())\n",
    "    return hasil"
   ]
  },
  {
   "cell_type": "code",
   "execution_count": 5,
   "metadata": {},
   "outputs": [
    {
     "name": "stdout",
     "output_type": "stream",
     "text": [
      "jumlah kata dalam kalimat tersebut adalah 8\n"
     ]
    }
   ],
   "source": [
    "print('jumlah kata dalam kalimat tersebut adalah', number_of_word('surabaya pada hari ini sangat panas dan terik'))"
   ]
  },
  {
   "cell_type": "code",
   "execution_count": 6,
   "metadata": {},
   "outputs": [],
   "source": [
    "number_of_word = lambda sentence: len(sentence.split())"
   ]
  },
  {
   "cell_type": "code",
   "execution_count": 7,
   "metadata": {},
   "outputs": [
    {
     "name": "stdout",
     "output_type": "stream",
     "text": [
      "jumlah kata dalam kalimat tersebut adalah 8\n"
     ]
    }
   ],
   "source": [
    "print('jumlah kata dalam kalimat tersebut adalah', number_of_word('surabaya pada hari ini sangat panas dan terik'))"
   ]
  },
  {
   "cell_type": "markdown",
   "metadata": {},
   "source": [
    "# Task 2 - Find Multiple\n",
    "\n",
    "Create a function that will get list of number(s) from certain range that multiples of given number.\n",
    "\n",
    "Instruction:\n",
    "\n",
    "1. Create function called 'find_multiples'.\n",
    "2. This function takes 3 input: 'start_range', 'end_range', and 'multiple'.\n",
    "3. Fro every number within the given range, check if that number is the multiples of 'multiple'.\n",
    "4. Return list of the possible multiple number(s).\n",
    "\n",
    "Example:\n",
    "\n",
    "- Input     : find_multiple(start_range= 1, end_range= 20,    \n",
    "              multiple= 5)\n",
    "- Output    : [5, 10, 15, 20]\n",
    "\n",
    "- Input     : find_multiple(start_range= 1, end_range= 50, \n",
    "              multiple= 10)\n",
    "- Output    : [10, 20, 30, 40, 50]\n"
   ]
  },
  {
   "cell_type": "code",
   "execution_count": 10,
   "metadata": {},
   "outputs": [],
   "source": [
    "def find_multiples(start_range, end_range, multiple):\n",
    "    '''\n",
    "    Fungsi ini akan mencari bilangan kelipatan tertentu dalam suatu range.\n",
    "    '''\n",
    "    hasil = []\n",
    "    for i in range(start_range, end_range+1):\n",
    "        if i % multiple == 0:\n",
    "            hasil.append(i)\n",
    "    return hasil"
   ]
  },
  {
   "cell_type": "code",
   "execution_count": 11,
   "metadata": {},
   "outputs": [
    {
     "name": "stdout",
     "output_type": "stream",
     "text": [
      "Bilangan kelipatan 7 pada range 1-50 adalah []\n"
     ]
    }
   ],
   "source": [
    "print(\"Bilangan kelipatan 7 pada range 1-50 adalah\", find_multiples(1, 50, 70))"
   ]
  },
  {
   "cell_type": "code",
   "execution_count": 14,
   "metadata": {},
   "outputs": [],
   "source": [
    "find_multiples = lambda start_range, end_range, multiple:[i for i in range(start_range, end_range+1) if i % multiple == 0]"
   ]
  },
  {
   "cell_type": "code",
   "execution_count": 15,
   "metadata": {},
   "outputs": [
    {
     "name": "stdout",
     "output_type": "stream",
     "text": [
      "Bilangan kelipatan 7 pada range 1-50 adalah [7, 14, 21, 28, 35, 42, 49]\n"
     ]
    }
   ],
   "source": [
    "print(\"Bilangan kelipatan 7 pada range 1-50 adalah\", find_multiples(1, 50, 7))"
   ]
  },
  {
   "cell_type": "markdown",
   "metadata": {},
   "source": [
    "# Task 3 - Grade Coverter\n",
    "\n",
    "Create a function that will convert student's grade to GPA.\n",
    "\n",
    "Instruction:\n",
    "\n",
    "1. Create function called 'Grace_converter'.\n",
    "2. This function takes input: 'convert_to' and *n*-paired of student(s) name with its respective score.\n",
    "3. You can utilize **kwargs input argument to generate n-length paired of student(s) name with its respective score (Dictionary).\n",
    "4. This fuction will return dictionary of student's name along with converted Letter Grade or GPA, depending on user input in 'convert_to' parameter.\n",
    "\n",
    "|**Score**|**Letter Grade**|**GPA 4.0 Scale**|\n",
    "|:-------:|:--------------:|:----------------:|\n",
    "|85 - 100|A|4|\n",
    "|70 - 84.99|B|3|\n",
    "|60 - 69.99|C|2.5|\n",
    "|50 - 59.99|D|2|\n",
    "|40 - 49.99|E|1.5|\n",
    "|0 - 39.99|F|1|\n",
    "\n",
    "Example:\n",
    "- Input     : Grade_Converter(convert_to='gpa', Adam=62, Faiz=91)\n",
    "- Output    : {'Adam: 2.5, 'Faiz': 4}\n",
    "\n",
    "- Input     : Grade_Converter(convert_to='letter_grade', Alvert=90, Dwi=82, Syahdan=58, Veronica=84)\n",
    "- Output    : {'Albert': 'A', 'Dwi': 'B', 'Syahdan': 'D', 'Veronica': 'B'}"
   ]
  },
  {
   "cell_type": "code",
   "execution_count": 22,
   "metadata": {},
   "outputs": [],
   "source": [
    "def Grade_converter(target, **kwargs):\n",
    "\n",
    "# fungsi ini akan mengkonversi nilai angka menjadi nilai huruf atau sebaliknya\n",
    "    if target == 'gpa':\n",
    "        for name, score in kwargs.items():\n",
    "            if score >= 85:\n",
    "                kwargs[name] = 4.0\n",
    "            elif score >= 70:\n",
    "                kwargs[name] = 3.0\n",
    "            elif score >= 60:\n",
    "                kwargs[name] = 2.5\n",
    "            elif score >= 50:\n",
    "                kwargs[name] = 2.0\n",
    "            elif score >= 40:\n",
    "                kwargs[name] = 1.5\n",
    "            else:\n",
    "                kwargs[name] = 1.0\n",
    "        return kwargs\n",
    "\n",
    "    elif target == 'letter_grade':\n",
    "        for name, score in kwargs.items():\n",
    "            if score >= 85:\n",
    "                kwargs[name] = 'A'\n",
    "            elif score >= 70:\n",
    "                kwargs[name] = 'B'\n",
    "            elif score >= 60:\n",
    "                kwargs[name] = 'C'\n",
    "            elif score >= 50:\n",
    "                kwargs[name] = 'D'\n",
    "            elif score >= 40:\n",
    "                kwargs[name] = 'E'\n",
    "            else:\n",
    "                kwargs[name] = 'F'\n",
    "        return kwargs\n",
    "\n",
    "    else:\n",
    "        print(\"Invalid target!\")\n",
    "        return None"
   ]
  },
  {
   "cell_type": "code",
   "execution_count": 24,
   "metadata": {},
   "outputs": [
    {
     "name": "stdout",
     "output_type": "stream",
     "text": [
      "Konversi nilai andi, budi, dan caca ke huruf adalah {'andi': 'A', 'budi': 'B', 'caca': 'D'}\n",
      "Konversi nilai andi, budi, dan caca ke angka adalah {'andi': 4.0, 'budi': 3.0, 'caca': 2.0}\n"
     ]
    }
   ],
   "source": [
    "print('Konversi nilai andi, budi, dan caca ke huruf adalah', Grade_converter('letter_grade', andi=85, budi=70, caca=55))\n",
    "print('Konversi nilai andi, budi, dan caca ke angka adalah', Grade_converter('gpa', andi=85, budi=70, caca=55))"
   ]
  },
  {
   "cell_type": "markdown",
   "metadata": {},
   "source": [
    "# Task 4 - Fibonacci Sequence\n",
    "\n",
    "Fibonacci sequence is a sequence in which each number is the sum of the two preceding ones. Suppose we have fibonacci sequence started with:\n",
    "\n",
    "0, 1, 1, 2, 3, 5, ...\n",
    "\n",
    "The next number should be **8** or sum of the two precedings, 3 and 5:\n",
    "\n",
    "0, 1, 1, 2, 3, 5, **8**, ...\n",
    "\n",
    "Then the next number should be **13** or sum of the two precedings, 5 and 8:\n",
    "\n",
    "0, 1, 1, 2, 3, 5, 8, **13**,  ...\n",
    "\n",
    "\n",
    "And so on.\n",
    "\n",
    "\n",
    "Create a function that will return the value of *n*-th fibonacci number\n",
    "\n",
    "Instruction:\n",
    "1. The function will take 1 input parameter, n, represents the asked number from our fibonacci sequence index.\n",
    "2. The fibonacci sequence will start with the value of 0 and 1.\n",
    "3. This function will return the n-th value from fibonacci sequence.\n",
    "\n",
    "Example:\n",
    "\n",
    "|Fibo_Seq|0|1|1|2|3|5|8|13|21|34|55|...|\n",
    "|:-:|:-:|:-:|:-:|:-:|:-:|:-:|:-:|:-:|:-:|:-:|:-:|:-:|\n",
    "|*n*-th|0|1|2|3|4|5|6|7|8|9|10|...|\n",
    "\n",
    "\n",
    "- Input: my_function(n=0)\n",
    "- Output: 0\n",
    "\n",
    "- Input: my_function(n=4)\n",
    "- Output: 3\n",
    "\n",
    "- Input: my_function(n=10)\n",
    "- Output: 55\n",
    "\n",
    "\n",
    "\n"
   ]
  },
  {
   "cell_type": "code",
   "execution_count": 41,
   "metadata": {},
   "outputs": [],
   "source": [
    "def fibonacci(n):\n",
    "\n",
    "# fungsi ini akan menghitung bilangan fibonacci ke-n.\n",
    "\n",
    "    total = 0\n",
    "\n",
    "    if n <=1:\n",
    "        total = n\n",
    "\n",
    "    else:\n",
    "        total = fibonacci(n-1) + fibonacci(n-2)\n",
    "\n",
    "    return total"
   ]
  },
  {
   "cell_type": "code",
   "execution_count": 42,
   "metadata": {},
   "outputs": [
    {
     "name": "stdout",
     "output_type": "stream",
     "text": [
      "Bilangan fibonacci ke-10 adalah 55\n",
      "Bilangan fibonacci ke-20 adalah 6765\n"
     ]
    }
   ],
   "source": [
    "print('Bilangan fibonacci ke-10 adalah', fibonacci(10))\n",
    "print('Bilangan fibonacci ke-20 adalah', fibonacci(20))"
   ]
  },
  {
   "cell_type": "code",
   "execution_count": 44,
   "metadata": {},
   "outputs": [
    {
     "name": "stdout",
     "output_type": "stream",
     "text": [
      "0\n"
     ]
    }
   ],
   "source": [
    "def fibonacci_number(n):\n",
    "    # Edge cases\n",
    "    if n == 0: # If n is equal to 0\n",
    "        return 0 # Then return 0\n",
    "    elif n == 1: # If n is equal to 1\n",
    "        return 1 # Then return 1\n",
    "\n",
    "    a, b = 0, 1 # Initialize the first two numbers in the Fibonacci sequence: a - 0 and b - 1\n",
    "    position = 1 # Initialize the Fibonacci sequence position, starting from 1 because we've already considered n-0 and n-1\n",
    "\n",
    "    while b <= n: # As long as the value of b <= n\n",
    "        a, b - b, a + b # Update the values of a and b, a becomes b, and b becomes a+ b (i.e., the sum of the two previous numbers in the sequence\n",
    "        # position = position + 1\n",
    "        if b == n: # If b is equal to n (meaning we've found n in the ribonacci sequence)\n",
    "            return position # Then return the current position\n",
    "        \n",
    "    return \"Not a Fibonacci number\" # If the loop completes and we haven't found n in the sequence, return \"Not a fibonacci number\"\n",
    "\n",
    "# Testing the function with the provided examples\n",
    "print(fibonacci_number(n=0)) # Expected output: 0\n",
    "print(fibonacci_number(n=4)) # This will return \"Not a Fibonacci number\"\n",
    "print(fibonacci_number(n=5)) # Expected Output: 5\n",
    "print(fibonacci_number(n=55)) # Expected Output: 10"
   ]
  },
  {
   "cell_type": "code",
   "execution_count": null,
   "metadata": {},
   "outputs": [],
   "source": []
  }
 ],
 "metadata": {
  "kernelspec": {
   "display_name": "Python 3",
   "language": "python",
   "name": "python3"
  },
  "language_info": {
   "codemirror_mode": {
    "name": "ipython",
    "version": 3
   },
   "file_extension": ".py",
   "mimetype": "text/x-python",
   "name": "python",
   "nbconvert_exporter": "python",
   "pygments_lexer": "ipython3",
   "version": "3.11.5"
  }
 },
 "nbformat": 4,
 "nbformat_minor": 2
}
